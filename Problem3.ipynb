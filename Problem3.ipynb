{
 "cells": [
  {
   "cell_type": "markdown",
   "id": "9518dcd5-c3d3-4176-a15b-f5b6697e0e0c",
   "metadata": {},
   "source": [
    "#### Task 1\n",
    "#### Name: Foyez Ahmed\n",
    "#### Intern-ID: i23b0034s13"
   ]
  },
  {
   "cell_type": "code",
   "execution_count": 11,
   "id": "12cae7f9-7f02-4933-af01-118790dee687",
   "metadata": {},
   "outputs": [
    {
     "name": "stdout",
     "output_type": "stream",
     "text": [
      "1\n",
      "1.2\n",
      "Hello World\n"
     ]
    }
   ],
   "source": [
    "a = 1\n",
    "b = 1.2\n",
    "c = \"Hello World\"\n",
    "\n",
    "print(a)\n",
    "print(b)\n",
    "print(c)"
   ]
  },
  {
   "cell_type": "code",
   "execution_count": 12,
   "id": "09f9f59c-30f7-454d-b8cb-6dcd2253d36b",
   "metadata": {},
   "outputs": [
    {
     "name": "stdout",
     "output_type": "stream",
     "text": [
      "15\n"
     ]
    }
   ],
   "source": [
    "#For Loop\n",
    "sum = 0\n",
    "for i in range(6):\n",
    "    sum+=i\n",
    "print(sum)"
   ]
  },
  {
   "cell_type": "code",
   "execution_count": 13,
   "id": "6acb15fa-1600-4aaa-a041-6b5e592cd20d",
   "metadata": {},
   "outputs": [
    {
     "name": "stdout",
     "output_type": "stream",
     "text": [
      "<class 'list'>\n"
     ]
    }
   ],
   "source": [
    "#List\n",
    "my_array = [1.2, \"Hello World\", \"Mango\"]\n",
    "print(type(my_array))"
   ]
  },
  {
   "cell_type": "code",
   "execution_count": 14,
   "id": "9305f664-33b6-42ce-a4b2-60296a7f7e99",
   "metadata": {},
   "outputs": [
    {
     "name": "stdout",
     "output_type": "stream",
     "text": [
      "1\n",
      "2\n",
      "3\n",
      "4\n",
      "[1, 2, 3, 4, 5, 6, 7]\n",
      "[1, 2, 3]\n",
      "[3, 4, 5]\n",
      "[2, 4, 6]\n"
     ]
    }
   ],
   "source": [
    "#Array\n",
    "list = [1,2,3,4,5,6,7] \n",
    "\n",
    "print(list[0])\n",
    "print(list[1])\n",
    "print(list[2])\n",
    "print(list[3])\n",
    "print(list[:])\n",
    "print(list[0:3])\n",
    "print(list[2:5])\n",
    "print(list[1:6:2])"
   ]
  },
  {
   "cell_type": "code",
   "execution_count": 15,
   "id": "c2129b9d-687c-4b77-8fc7-70f611750bce",
   "metadata": {},
   "outputs": [
    {
     "name": "stdout",
     "output_type": "stream",
     "text": [
      "Hello World\n"
     ]
    }
   ],
   "source": [
    "#Funtion\n",
    "def print_str(str):\n",
    "    \"This Prints a String\"\n",
    "    print(str)\n",
    "    return\n",
    "\n",
    "var = \"Hello World\"\n",
    "print_str(var)"
   ]
  },
  {
   "cell_type": "code",
   "execution_count": 16,
   "id": "d0c1f54c-1efe-4a70-898b-ac38099ebfe1",
   "metadata": {},
   "outputs": [
    {
     "name": "stdout",
     "output_type": "stream",
     "text": [
      "Hell\n"
     ]
    }
   ],
   "source": [
    "var = \"Hello World\"\n",
    "print(var[0:4])"
   ]
  },
  {
   "cell_type": "code",
   "execution_count": 17,
   "id": "a99b6686-f863-4e3a-b32d-e5cc17778549",
   "metadata": {},
   "outputs": [
    {
     "name": "stdout",
     "output_type": "stream",
     "text": [
      "Hello World I am learning Python\n"
     ]
    }
   ],
   "source": [
    "var = \"Hello World\"\n",
    "print(var + \" I am learning Python\")"
   ]
  },
  {
   "cell_type": "code",
   "execution_count": 18,
   "id": "fe6ffedb-06b2-4d1f-b01c-f17cd7488895",
   "metadata": {},
   "outputs": [
    {
     "name": "stdout",
     "output_type": "stream",
     "text": [
      "Name of the file:  foo.txt\n",
      "File Closed?:  False\n",
      "File Opening Mode:  wb\n",
      "File Closed?:  True\n"
     ]
    }
   ],
   "source": [
    "#File Operations\n",
    "fo = open(\"foo.txt\", \"wb\")\n",
    "print(\"Name of the file: \", fo.name)\n",
    "print(\"File Closed?: \", fo.closed)\n",
    "print(\"File Opening Mode: \", fo.mode)\n",
    "fo.close()\n",
    "print(\"File Closed?: \", fo.closed)"
   ]
  },
  {
   "cell_type": "code",
   "execution_count": 19,
   "id": "b10ebe92-2115-4e26-94b5-8f4c811e48da",
   "metadata": {},
   "outputs": [],
   "source": [
    "#Writing File\n",
    "fo = open(\"foo.txt\", \"w\")\n",
    "fo.write(\"Currently Studying CSE\")\n",
    "fo.close()"
   ]
  },
  {
   "cell_type": "code",
   "execution_count": 20,
   "id": "3ca2c3f3-8e82-41c0-a719-8436ede2d738",
   "metadata": {},
   "outputs": [
    {
     "name": "stdout",
     "output_type": "stream",
     "text": [
      "String: Currently Studying CSE\n"
     ]
    }
   ],
   "source": [
    "#Reading File\n",
    "fo = open(\"foo.txt\", \"r\")\n",
    "str = fo.read()\n",
    "fo.close()\n",
    "print(\"String: \" + str)"
   ]
  },
  {
   "cell_type": "code",
   "execution_count": 21,
   "id": "d6df4663-b285-4ace-a289-7811af57ac97",
   "metadata": {},
   "outputs": [
    {
     "name": "stdout",
     "output_type": "stream",
     "text": [
      "Position:  0\n"
     ]
    }
   ],
   "source": [
    "#Position of the File\n",
    "fo = open(\"foo.txt\", \"w\")\n",
    "pos = fo.tell()\n",
    "print(\"Position: \", pos)\n",
    "fo.close()"
   ]
  },
  {
   "cell_type": "code",
   "execution_count": 23,
   "id": "8eb619f2-5c38-4697-b251-8f643a35a19d",
   "metadata": {},
   "outputs": [
    {
     "name": "stdout",
     "output_type": "stream",
     "text": [
      "File name:  foo.txt\n",
      "File name:  Test.txt\n"
     ]
    }
   ],
   "source": [
    "#Renaming file\n",
    "import os\n",
    "fo = open(\"foo.txt\", \"r\")\n",
    "print(\"File name: \", fo.name)\n",
    "fo.close()\n",
    "os.rename(\"foo.txt\", \"Test.txt\")\n",
    "fo = open(\"Test.txt\", \"r\")\n",
    "print(\"File name: \", fo.name)\n",
    "fo.close()"
   ]
  },
  {
   "cell_type": "markdown",
   "id": "187c890d-ca5b-4460-8fe6-6d607df115d5",
   "metadata": {},
   "source": [
    "#### Task 2\n",
    "#### Name: Foyez Ahmed\n",
    "#### Inter_Id: i23b0034s13"
   ]
  },
  {
   "cell_type": "code",
   "execution_count": 2,
   "id": "9d06aaca-9b95-4fed-9a78-1b1ad637b387",
   "metadata": {},
   "outputs": [
    {
     "name": "stdout",
     "output_type": "stream",
     "text": [
      "10\n",
      "10.05\n",
      "Ten\n"
     ]
    }
   ],
   "source": [
    "#Problem 1.1\n",
    "var1 = 10\n",
    "var2 = 10.05\n",
    "var3 = \"Ten\"\n",
    "\n",
    "s_var1 = str(var1) \n",
    "s_var2 = str(var2) \n",
    "s_var3 = str(var3)\n",
    "\n",
    "print(s_var1)\n",
    "print(s_var2)\n",
    "print(s_var3) "
   ]
  },
  {
   "cell_type": "code",
   "execution_count": 34,
   "id": "d6dc4b2c-57f3-4359-a2f7-170d6f844c13",
   "metadata": {},
   "outputs": [
    {
     "name": "stdout",
     "output_type": "stream",
     "text": [
      "100\n"
     ]
    }
   ],
   "source": [
    "#Problem 1.2\n",
    "my_list = [10, 0, 55, 88, 100, -56, 80]\n",
    "max_num = None\n",
    "for num in my_list:\n",
    "    if max_num == None or max_num < num:\n",
    "        max_num = num\n",
    "print(max_num)"
   ]
  },
  {
   "cell_type": "code",
   "execution_count": 53,
   "id": "33d4ff43-e2b0-4f93-ae7d-8240614d0828",
   "metadata": {},
   "outputs": [
    {
     "name": "stdout",
     "output_type": "stream",
     "text": [
      "u 2\n",
      "r 4\n",
      "  4\n",
      "t 3\n",
      "e 3\n",
      "y 2\n"
     ]
    }
   ],
   "source": [
    "#Problem 1.3\n",
    "s = list(\"Your daughter is very pretty\")\n",
    "\n",
    "count = {}\n",
    "for char in s:\n",
    "  if char in count:\n",
    "    count[char] += 1\n",
    "  else:\n",
    "    count[char] = 1\n",
    "\n",
    "for key in count:\n",
    "  if count[key] > 1:\n",
    "    print (key, count[key])\n",
    "\n"
   ]
  },
  {
   "cell_type": "code",
   "execution_count": 20,
   "id": "375b960c-f6c8-4f2b-98bc-32397dcd96fd",
   "metadata": {},
   "outputs": [
    {
     "name": "stdout",
     "output_type": "stream",
     "text": [
      "2\n"
     ]
    }
   ],
   "source": [
    "#Problem 1.4\n",
    "list = ['abc', 'xyz', 'aba', '1221']\n",
    "temp = None\n",
    "counter = 0\n",
    "\n",
    "for i in list:\n",
    "    temp = i\n",
    "    if len(temp) >= 2 and temp[0] == temp[-1]:\n",
    "        counter+=1\n",
    "print(counter)\n"
   ]
  },
  {
   "cell_type": "code",
   "execution_count": 73,
   "id": "fdd17578-de73-445d-a828-2effed9f2aff",
   "metadata": {},
   "outputs": [
    {
     "name": "stdin",
     "output_type": "stream",
     "text": [
      "Input:  Bangladesh has played 396 ODI matches resulting in 142 victories\n"
     ]
    },
    {
     "name": "stdout",
     "output_type": "stream",
     "text": [
      "No. of Upper case characters :  4\n",
      "No. of Lower case Characters :  45\n"
     ]
    }
   ],
   "source": [
    "#Problem 1.5\n",
    "text = input(\"Input: \")\n",
    "u_count = 0\n",
    "l_count = 0\n",
    "for char in text:\n",
    "    if char.isupper():\n",
    "        u_count += 1\n",
    "    elif char.islower():\n",
    "        l_count += 1\n",
    "\n",
    "print(\"No. of Upper case characters : \", u_count)\n",
    "print(\"No. of Lower case Characters : \", l_count)"
   ]
  },
  {
   "cell_type": "code",
   "execution_count": 12,
   "id": "308a71a7-c1d6-4622-8490-ab4cb0645b48",
   "metadata": {},
   "outputs": [
    {
     "name": "stdin",
     "output_type": "stream",
     "text": [
      "Insert your String:  red, white, black, red, green, black\n"
     ]
    },
    {
     "name": "stdout",
     "output_type": "stream",
     "text": [
      "[' black', ' black', ' green', ' red', ' white', 'red']\n"
     ]
    }
   ],
   "source": [
    "#Problem 1.6\n",
    "char = input(\"Insert your String: \")\n",
    "s_list = char.split(\",\")\n",
    "sorted_list = sorted(s_list)\n",
    "print(sorted_list)\n"
   ]
  },
  {
   "cell_type": "code",
   "execution_count": 67,
   "id": "ca289f0b-3c06-4a22-af94-808ecf5e151e",
   "metadata": {},
   "outputs": [
    {
     "name": "stdout",
     "output_type": "stream",
     "text": [
      "t 2\n",
      "h 2\n",
      "e 3\n",
      "u 2\n",
      "r 2\n",
      "o 4\n"
     ]
    }
   ],
   "source": [
    "#Problem 1.7\n",
    "text = \"thequickbrownfoxjumpsoverthelazydog\"\n",
    "result = []\n",
    "for char in text:\n",
    "    if char not in result:  \n",
    "        result.append(char)\n",
    "\n",
    "for i in range(len(result)):\n",
    "    count = 0\n",
    "    for j in range(len(text)):\n",
    "        if result[i] == text[j]:\n",
    "            count += 1\n",
    "    if count > 1:\n",
    "        print(result[i], count)\n",
    "\n"
   ]
  },
  {
   "cell_type": "code",
   "execution_count": 7,
   "id": "e39e0bca-894c-49de-9112-8e6db3f8e936",
   "metadata": {},
   "outputs": [
    {
     "name": "stdout",
     "output_type": "stream",
     "text": [
      "['Python is a great object-oriented, interpreted, and interactive\\n\\nprogramming language', \"It is often compared (favorably of course :-) )\\n\\nto Lisp, Tcl, Perl, Ruby, C#, Visual Basic, Visual Fox Pro, Scheme or Java...\\n\\nand it's much more fun\", '', 'Welcome to the Python Wiki, a user-editable compendium of knowledge\\n\\nbased around the Python programming language', 'Some pages are protected\\n\\nagainst casual editing - see WikiEditingGuidelines for more information\\n\\nabout editing content', '']\n"
     ]
    }
   ],
   "source": [
    "#Problem 1.8\n",
    "file1 = open(\"words1.txt\", \"r\")\n",
    "file2 = open(\"words2.txt\", \"r\")\n",
    "\n",
    "text1 = file1.read()\n",
    "text2 = file2.read()\n",
    "\n",
    "my_list = text2.split(\". \") + text1.split(\". \")\n",
    "\n",
    "print(my_list)"
   ]
  },
  {
   "cell_type": "code",
   "execution_count": null,
   "id": "7f000144-c51f-4fed-bc1a-5ab7f5597ec1",
   "metadata": {},
   "outputs": [],
   "source": []
  }
 ],
 "metadata": {
  "kernelspec": {
   "display_name": "Python 3 (ipykernel)",
   "language": "python",
   "name": "python3"
  },
  "language_info": {
   "codemirror_mode": {
    "name": "ipython",
    "version": 3
   },
   "file_extension": ".py",
   "mimetype": "text/x-python",
   "name": "python",
   "nbconvert_exporter": "python",
   "pygments_lexer": "ipython3",
   "version": "3.11.5"
  }
 },
 "nbformat": 4,
 "nbformat_minor": 5
}
