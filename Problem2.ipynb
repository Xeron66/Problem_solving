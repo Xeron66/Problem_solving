{
 "cells": [
  {
   "cell_type": "markdown",
   "id": "a9f10b6d-8f7f-46eb-9285-1f01e303e663",
   "metadata": {},
   "source": [
    "#### Name: Foyez Ahmed\n",
    "#### Intern-ID: i23b0034s13"
   ]
  },
  {
   "cell_type": "markdown",
   "id": "128fbaee-5aa7-404a-ae0a-17e0ef934271",
   "metadata": {},
   "source": [
    "Task 1"
   ]
  },
  {
   "cell_type": "code",
   "execution_count": 9,
   "id": "c93c99c8-b330-4e61-9a2b-516eaf398916",
   "metadata": {},
   "outputs": [
    {
     "name": "stdout",
     "output_type": "stream",
     "text": [
      "1\n",
      "1.2\n",
      "Hello World\n"
     ]
    }
   ],
   "source": [
    "a = 1\n",
    "b = 1.2\n",
    "c = \"Hello World\"\n",
    "\n",
    "print(a)\n",
    "print(b)\n",
    "print(c)"
   ]
  },
  {
   "cell_type": "code",
   "execution_count": 12,
   "id": "77519222-097b-49fc-9e37-2ac77498d07e",
   "metadata": {},
   "outputs": [
    {
     "name": "stdout",
     "output_type": "stream",
     "text": [
      "15\n"
     ]
    }
   ],
   "source": [
    "#For Loop\n",
    "sum = 0\n",
    "for i in range(6):\n",
    "    sum+=i\n",
    "print(sum)"
   ]
  },
  {
   "cell_type": "code",
   "execution_count": 13,
   "id": "04afdfb5-7fd4-48e0-a9c9-f83bdfc838a3",
   "metadata": {},
   "outputs": [
    {
     "name": "stdout",
     "output_type": "stream",
     "text": [
      "<class 'list'>\n"
     ]
    }
   ],
   "source": [
    "#List\n",
    "my_array = [1.2, \"Hello World\", \"Mango\"]\n",
    "print(type(my_array))"
   ]
  },
  {
   "cell_type": "code",
   "execution_count": 20,
   "id": "2a4bada4-fa04-4d7a-ba05-6cc5640792ba",
   "metadata": {},
   "outputs": [
    {
     "name": "stdout",
     "output_type": "stream",
     "text": [
      "1\n",
      "2\n",
      "3\n",
      "4\n",
      "[1, 2, 3, 4, 5, 6, 7]\n",
      "[1, 2, 3]\n",
      "[3, 4, 5]\n",
      "[2, 4, 6]\n"
     ]
    }
   ],
   "source": [
    "#Array\n",
    "list = [1,2,3,4,5,6,7] \n",
    "\n",
    "print(list[0])\n",
    "print(list[1])\n",
    "print(list[2])\n",
    "print(list[3])\n",
    "print(list[:])\n",
    "print(list[0:3])\n",
    "print(list[2:5])\n",
    "print(list[1:6:2])"
   ]
  },
  {
   "cell_type": "code",
   "execution_count": 21,
   "id": "45bd74e6-ed4f-4032-88ec-7e289acbf9e6",
   "metadata": {},
   "outputs": [
    {
     "name": "stdout",
     "output_type": "stream",
     "text": [
      "Hello World\n"
     ]
    }
   ],
   "source": [
    "#Funtion\n",
    "def print_str(str):\n",
    "    \"This Prints a String\"\n",
    "    print(str)\n",
    "    return\n",
    "\n",
    "var = \"Hello World\"\n",
    "print_str(var)"
   ]
  },
  {
   "cell_type": "code",
   "execution_count": 22,
   "id": "e4a04701-cba4-4924-b748-f558aaac358d",
   "metadata": {},
   "outputs": [
    {
     "name": "stdout",
     "output_type": "stream",
     "text": [
      "Hell\n"
     ]
    }
   ],
   "source": [
    "var = \"Hello World\"\n",
    "print(var[0:4])"
   ]
  },
  {
   "cell_type": "code",
   "execution_count": 24,
   "id": "0d5d21ab-cf4e-413a-a326-4a469232f26a",
   "metadata": {},
   "outputs": [
    {
     "name": "stdout",
     "output_type": "stream",
     "text": [
      "Hello World I am learning Python\n"
     ]
    }
   ],
   "source": [
    "var = \"Hello World\"\n",
    "print(var + \" I am learning Python\")"
   ]
  },
  {
   "cell_type": "code",
   "execution_count": 12,
   "id": "957e1f53-80e5-4587-9edc-5deaf28c3aab",
   "metadata": {},
   "outputs": [
    {
     "name": "stdout",
     "output_type": "stream",
     "text": [
      "Name of the file:  foo.txt\n",
      "File Closed?:  False\n",
      "File Opening Mode:  wb\n",
      "File Closed?:  True\n"
     ]
    }
   ],
   "source": [
    "#File Operations\n",
    "fo = open(\"foo.txt\", \"wb\")\n",
    "print(\"Name of the file: \", fo.name)\n",
    "print(\"File Closed?: \", fo.closed)\n",
    "print(\"File Opening Mode: \", fo.mode)\n",
    "fo.close()\n",
    "print(\"File Closed?: \", fo.closed)"
   ]
  },
  {
   "cell_type": "code",
   "execution_count": 13,
   "id": "64dac961-7ff3-4130-a25f-2d7113edc23a",
   "metadata": {},
   "outputs": [],
   "source": [
    "#Writing File\n",
    "fo = open(\"foo.txt\", \"w\")\n",
    "fo.write(\"Currently Studying CSE\")\n",
    "fo.close()"
   ]
  },
  {
   "cell_type": "code",
   "execution_count": 17,
   "id": "8379c3cb-4969-4d04-bc19-bab33220df89",
   "metadata": {},
   "outputs": [
    {
     "name": "stdout",
     "output_type": "stream",
     "text": [
      "String: Currently Studying CSE\n"
     ]
    }
   ],
   "source": [
    "#Reading File\n",
    "fo = open(\"foo.txt\", \"r\")\n",
    "str = fo.read()\n",
    "fo.close()\n",
    "print(\"String: \" + str)"
   ]
  },
  {
   "cell_type": "code",
   "execution_count": 20,
   "id": "e8e6e879-92ed-43d0-897f-1f32a852b56b",
   "metadata": {},
   "outputs": [
    {
     "name": "stdout",
     "output_type": "stream",
     "text": [
      "Position:  0\n"
     ]
    }
   ],
   "source": [
    "#Position of the File\n",
    "fo = open(\"foo.txt\", \"w\")\n",
    "pos = fo.tell()\n",
    "print(\"Position: \", pos)\n",
    "fo.close()"
   ]
  },
  {
   "cell_type": "code",
   "execution_count": 32,
   "id": "3796de09-1d8f-4b3f-a477-92418d96f288",
   "metadata": {},
   "outputs": [
    {
     "name": "stdout",
     "output_type": "stream",
     "text": [
      "File name:  TestFile.txt\n",
      "File name:  Test.txt\n"
     ]
    }
   ],
   "source": [
    "#Renaming file\n",
    "import os\n",
    "fo = open(\"TestFile.txt\", \"r\")\n",
    "print(\"File name: \", fo.name)\n",
    "fo.close()\n",
    "os.rename(\"TestFile.txt\", \"Test.txt\")\n",
    "fo = open(\"Test.txt\", \"r\")\n",
    "print(\"File name: \", fo.name)\n",
    "fo.close()"
   ]
  },
  {
   "cell_type": "code",
   "execution_count": null,
   "id": "bc1cd453-e200-4047-89cb-26d5c88d3436",
   "metadata": {},
   "outputs": [],
   "source": []
  }
 ],
 "metadata": {
  "kernelspec": {
   "display_name": "Python 3 (ipykernel)",
   "language": "python",
   "name": "python3"
  },
  "language_info": {
   "codemirror_mode": {
    "name": "ipython",
    "version": 3
   },
   "file_extension": ".py",
   "mimetype": "text/x-python",
   "name": "python",
   "nbconvert_exporter": "python",
   "pygments_lexer": "ipython3",
   "version": "3.11.4"
  }
 },
 "nbformat": 4,
 "nbformat_minor": 5
}
